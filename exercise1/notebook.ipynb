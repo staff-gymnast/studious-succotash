{
 "cells": [
  {
   "cell_type": "code",
   "execution_count": 1,
   "metadata": {},
   "outputs": [
    {
     "name": "stdout",
     "output_type": "stream",
     "text": [
      "Found node with key 7: right grandchild\n",
      "Node with key 8 not found.\n"
     ]
    }
   ],
   "source": [
    "from binary_search_tree import TreeMap\n",
    "\n",
    "\n",
    "def main():\n",
    "    tree_map = TreeMap()\n",
    "    \n",
    "    # Creating the tree structure (Figure 11.7 from the textbook)\n",
    "    p10 = tree_map._add_root(tree_map._Item(10, 'root'))\n",
    "    p5 = tree_map._add_left(p10, tree_map._Item(5, 'left child'))\n",
    "    p15 = tree_map._add_right(p10, tree_map._Item(15, 'right child'))\n",
    "    p3 = tree_map._add_left(p5, tree_map._Item(3, 'left grandchild'))\n",
    "    p7 = tree_map._add_right(p5, tree_map._Item(7, 'right grandchild'))\n",
    "    p12 = tree_map._add_left(p15, tree_map._Item(12, 'left grandchild'))\n",
    "    p18 = tree_map._add_right(p15, tree_map._Item(18, 'right grandchild'))\n",
    "    \n",
    "    # Test the non-recursive _subtree_search\n",
    "    search_key = 7\n",
    "    result = tree_map._subtree_search(tree_map.root(), search_key)\n",
    "    if result and result.key() == search_key:\n",
    "        print(f\"Found node with key {search_key}: {result.value()}\")\n",
    "    else:\n",
    "        print(f\"Node with key {search_key} not found.\")\n",
    "\n",
    "    # Test searching for a key that doesn't exist\n",
    "    search_key = 8\n",
    "    result = tree_map._subtree_search(tree_map.root(), search_key)\n",
    "    if result and result.key() == search_key:\n",
    "        print(f\"Found node with key {search_key}: {result.value()}\")\n",
    "    else:\n",
    "        print(f\"Node with key {search_key} not found.\")\n",
    "\n",
    "if __name__ == \"__main__\":\n",
    "    main()"
   ]
  }
 ],
 "metadata": {
  "kernelspec": {
   "display_name": "Python 3",
   "language": "python",
   "name": "python3"
  },
  "language_info": {
   "codemirror_mode": {
    "name": "ipython",
    "version": 3
   },
   "file_extension": ".py",
   "mimetype": "text/x-python",
   "name": "python",
   "nbconvert_exporter": "python",
   "pygments_lexer": "ipython3",
   "version": "3.10.13"
  }
 },
 "nbformat": 4,
 "nbformat_minor": 2
}
